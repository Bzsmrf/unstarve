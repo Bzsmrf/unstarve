{
 "cells": [
  {
   "cell_type": "code",
   "execution_count": 9,
   "metadata": {},
   "outputs": [],
   "source": [
    "import pandas as pd \n",
    "import csv"
   ]
  },
  {
   "cell_type": "code",
   "execution_count": 2,
   "metadata": {},
   "outputs": [
    {
     "data": {
      "text/html": [
       "<div>\n",
       "<style scoped>\n",
       "    .dataframe tbody tr th:only-of-type {\n",
       "        vertical-align: middle;\n",
       "    }\n",
       "\n",
       "    .dataframe tbody tr th {\n",
       "        vertical-align: top;\n",
       "    }\n",
       "\n",
       "    .dataframe thead th {\n",
       "        text-align: right;\n",
       "    }\n",
       "</style>\n",
       "<table border=\"1\" class=\"dataframe\">\n",
       "  <thead>\n",
       "    <tr style=\"text-align: right;\">\n",
       "      <th></th>\n",
       "      <th>userID</th>\n",
       "      <th>Rcuisine</th>\n",
       "    </tr>\n",
       "  </thead>\n",
       "  <tbody>\n",
       "    <tr>\n",
       "      <th>0</th>\n",
       "      <td>U1001</td>\n",
       "      <td>American</td>\n",
       "    </tr>\n",
       "    <tr>\n",
       "      <th>1</th>\n",
       "      <td>U1002</td>\n",
       "      <td>Mexican</td>\n",
       "    </tr>\n",
       "    <tr>\n",
       "      <th>2</th>\n",
       "      <td>U1003</td>\n",
       "      <td>Mexican</td>\n",
       "    </tr>\n",
       "    <tr>\n",
       "      <th>3</th>\n",
       "      <td>U1004</td>\n",
       "      <td>Bakery</td>\n",
       "    </tr>\n",
       "    <tr>\n",
       "      <th>4</th>\n",
       "      <td>U1004</td>\n",
       "      <td>Breakfast-Brunch</td>\n",
       "    </tr>\n",
       "    <tr>\n",
       "      <th>...</th>\n",
       "      <td>...</td>\n",
       "      <td>...</td>\n",
       "    </tr>\n",
       "    <tr>\n",
       "      <th>325</th>\n",
       "      <td>U1135</td>\n",
       "      <td>Southern</td>\n",
       "    </tr>\n",
       "    <tr>\n",
       "      <th>326</th>\n",
       "      <td>U1135</td>\n",
       "      <td>Dessert-Ice_Cream</td>\n",
       "    </tr>\n",
       "    <tr>\n",
       "      <th>327</th>\n",
       "      <td>U1136</td>\n",
       "      <td>Mexican</td>\n",
       "    </tr>\n",
       "    <tr>\n",
       "      <th>328</th>\n",
       "      <td>U1137</td>\n",
       "      <td>Mexican</td>\n",
       "    </tr>\n",
       "    <tr>\n",
       "      <th>329</th>\n",
       "      <td>U1138</td>\n",
       "      <td>Pizzeria</td>\n",
       "    </tr>\n",
       "  </tbody>\n",
       "</table>\n",
       "<p>330 rows × 2 columns</p>\n",
       "</div>"
      ],
      "text/plain": [
       "    userID           Rcuisine\n",
       "0    U1001           American\n",
       "1    U1002            Mexican\n",
       "2    U1003            Mexican\n",
       "3    U1004             Bakery\n",
       "4    U1004   Breakfast-Brunch\n",
       "..     ...                ...\n",
       "325  U1135           Southern\n",
       "326  U1135  Dessert-Ice_Cream\n",
       "327  U1136            Mexican\n",
       "328  U1137            Mexican\n",
       "329  U1138           Pizzeria\n",
       "\n",
       "[330 rows x 2 columns]"
      ]
     },
     "execution_count": 2,
     "metadata": {},
     "output_type": "execute_result"
    }
   ],
   "source": [
    "app = pd.read_csv(\"chefmozcuisine.csv\")\n",
    "app"
   ]
  },
  {
   "cell_type": "code",
   "execution_count": 7,
   "metadata": {},
   "outputs": [],
   "source": [
    "userDictionary = {}\n",
    "for ind in app.index:\n",
    "    if app['userID'][ind] not in userDictionary:\n",
    "        userDictionary[app['userID'][ind]] = [app['Rcuisine'][ind]]\n",
    "    else:\n",
    "        userDictionary[app['userID'][ind]].append(app['Rcuisine'][ind])\n"
   ]
  },
  {
   "cell_type": "code",
   "execution_count": 13,
   "metadata": {},
   "outputs": [
    {
     "name": "stdout",
     "output_type": "stream",
     "text": [
      "{'U1001': ['American'], 'U1002': ['Mexican'], 'U1003': ['Mexican'], 'U1004': ['Bakery', 'Breakfast-Brunch', 'Japanese', 'Contemporary', 'Mexican', 'Bagels', 'Cafe-Coffee_Shop', 'Continental-European', 'Cafeteria'], 'U1005': ['American'], 'U1006': ['Mexican'], 'U1007': ['Family'], 'U1008': ['Cafe-Coffee_Shop', 'Mexican', 'Juice', 'Hawaiian', 'Hot_Dogs', 'Latin_American', 'Korean', 'American', 'Cafeteria', 'Italian'], 'U1009': ['Diner', 'Fast_Food', 'Family', 'Cafe-Coffee_Shop', 'Deli-Sandwiches', 'Cafeteria', 'Mexican'], 'U1010': ['Mexican'], 'U1011': ['Mexican'], 'U1012': ['Latin_American'], 'U1013': ['Japanese'], 'U1014': ['Japanese', 'Fast_Food'], 'U1015': ['Mexican'], 'U1016': ['Cafe-Coffee_Shop', 'Contemporary', 'Regional', 'Fusion', 'Japanese', 'Portuguese', 'American', 'Indian-Pakistani', 'Eastern_European', 'Lebanese', 'Moroccan', 'Barbecue', 'Polynesian', 'Polish'], 'U1017': ['Chinese'], 'U1018': ['Mexican'], 'U1019': ['Family'], 'U1020': ['Mexican'], 'U1021': ['Pizzeria', 'Regional', 'Chinese', 'Burgers'], 'U1022': ['Mexican'], 'U1023': ['Mexican'], 'U1024': ['Afghan'], 'U1025': ['Mexican'], 'U1026': ['Mexican'], 'U1027': ['Family'], 'U1028': ['Mexican'], 'U1029': ['Mexican'], 'U1030': ['Mexican'], 'U1031': ['Mexican'], 'U1032': ['Mexican'], 'U1033': ['Mexican'], 'U1034': ['Mexican'], 'U1035': ['Family'], 'U1036': ['Mexican'], 'U1037': ['Mexican'], 'U1038': ['Mexican'], 'U1039': ['Regional'], 'U1040': ['Pizzeria'], 'U1041': ['Contemporary'], 'U1042': ['Mexican'], 'U1043': ['Latin_American'], 'U1044': ['Mexican'], 'U1045': ['Middle_Eastern', 'Mexican', 'Mongolian', 'Moroccan'], 'U1046': ['Bar'], 'U1047': ['American'], 'U1048': ['Mexican'], 'U1049': ['Mexican'], 'U1050': ['Mexican'], 'U1051': ['Mexican'], 'U1052': ['Bakery'], 'U1053': ['Mexican'], 'U1054': ['Mexican'], 'U1055': ['Breakfast-Brunch'], 'U1056': ['Mexican'], 'U1057': ['American'], 'U1058': ['Cuban'], 'U1059': ['Mexican'], 'U1060': ['Burgers', 'Cafeteria', 'Pizzeria', 'Juice', 'American', 'Tex-Mex', 'Spanish', 'Mexican', 'Fast_Food', 'Cafe-Coffee_Shop', 'Soup', 'Hot_Dogs', 'Italian'], 'U1061': ['Mexican'], 'U1062': ['Mexican'], 'U1063': ['Mexican'], 'U1064': ['Mexican'], 'U1065': ['Mexican'], 'U1066': ['Mexican'], 'U1067': ['Mexican'], 'U1068': ['Mexican'], 'U1069': ['Mexican'], 'U1070': ['Mexican'], 'U1071': ['Mexican'], 'U1072': ['Mexican'], 'U1073': ['American'], 'U1074': ['Sushi'], 'U1075': ['Mexican'], 'U1076': ['Mexican'], 'U1077': ['Mexican'], 'U1078': ['Mexican'], 'U1079': ['Mexican'], 'U1080': ['Mexican'], 'U1081': ['Mexican'], 'U1082': ['Mexican'], 'U1083': ['Mexican'], 'U1084': ['Mexican'], 'U1085': ['Mexican'], 'U1086': ['Italian'], 'U1087': ['Chinese'], 'U1088': ['Mexican'], 'U1089': ['Mexican'], 'U1090': ['Tex-Mex'], 'U1091': ['American', 'Mexican'], 'U1092': ['Game'], 'U1093': ['Japanese'], 'U1094': ['Mexican'], 'U1095': ['Italian'], 'U1096': ['Mexican'], 'U1097': ['Mexican'], 'U1098': ['Mexican'], 'U1099': ['Mexican'], 'U1100': ['Mexican'], 'U1101': ['Chinese', 'Italian', 'Doughnuts', 'Afghan', 'Mexican', 'Burgers', 'Latin_American', 'Contemporary', 'Cafe-Coffee_Shop', 'Family', 'Cafeteria', 'Bar', 'Australian', 'Hot_Dogs', 'Diner'], 'U1102': ['Pizzeria'], 'U1103': ['Mexican'], 'U1104': ['Italian'], 'U1105': ['Cafeteria'], 'U1106': ['Barbecue'], 'U1107': ['Mexican'], 'U1108': ['Cafe-Coffee_Shop', 'Sushi', 'Latin_American', 'Deli-Sandwiches', 'Mexican', 'Hot_Dogs', 'American', 'Fast_Food', 'Burgers', 'Asian', 'Pizzeria', 'Chinese', 'Dessert-Ice_Cream', 'Cafeteria', 'Japanese', 'Game', 'Family', 'Seafood'], 'U1109': ['Mexican'], 'U1110': ['Mexican'], 'U1111': ['Mexican'], 'U1112': ['Mexican'], 'U1113': ['Burgers'], 'U1114': ['Mexican'], 'U1115': ['Regional'], 'U1116': ['Mexican'], 'U1117': ['Turkish'], 'U1118': ['Pizzeria'], 'U1119': ['Mexican'], 'U1120': ['Mexican'], 'U1121': ['Mexican'], 'U1122': ['Afghan'], 'U1123': ['Mexican'], 'U1124': ['Mexican'], 'U1125': ['Mexican'], 'U1126': ['Mexican'], 'U1127': ['Mexican'], 'U1128': ['Cafeteria', 'Hot_Dogs', 'Pizzeria', 'Mexican'], 'U1129': ['Mexican'], 'U1130': ['Mexican'], 'U1131': ['Mexican'], 'U1132': ['Mexican'], 'U1133': ['Mexican'], 'U1134': ['Mexican'], 'U1135': ['Organic-Healthy', 'Steaks', 'Middle_Eastern', 'Mediterranean', 'British', 'Austrian', 'Israeli', 'Doughnuts', 'Pizzeria', 'Seafood', 'Fast_Food', 'Moroccan', 'Hot_Dogs', 'Russian-Ukrainian', 'Malaysian', 'Burgers', 'Fusion', 'Korean', 'Japanese', 'Vegetarian', 'Turkish', 'Peruvian', 'Juice', 'Tapas', 'Eclectic', 'African', 'Basque', 'Canadian', 'Afghan', 'Diner', 'Irish', 'Sushi', 'Polynesian', 'Bagels', 'Tex-Mex', 'Cuban', 'Southwestern', 'Cafe-Coffee_Shop', 'Continental-European', 'Family', 'Indian-Pakistani', 'Tea_House', 'International', 'Pacific_Northwest', 'Australian', 'German', 'Regional', 'Spanish', 'Persian', 'Ethiopian', 'Romanian', 'Cambodian', 'Pacific_Rim', 'Tunisian', 'Filipino', 'Dim_Sum', 'Breakfast-Brunch', 'Contemporary', 'Greek', 'Thai', 'Swiss', 'Bar', 'Soup', 'American', 'Mongolian', 'Cajun-Creole', 'Armenian', 'Indigenous', 'Bar_Pub_Brewery', 'Hawaiian', 'Cafeteria', 'Lebanese', 'Chinese', 'Portuguese', 'Caribbean', 'Indonesian', 'Hungarian', 'Bakery', 'Dutch-Belgian', 'Deli-Sandwiches', 'Kosher', 'Fine_Dining', 'Jamaican', 'Tibetan', 'Latin_American', 'Southeast_Asian', 'Eastern_European', 'Mexican', 'Burmese', 'California', 'Game', 'Italian', 'Scandinavian', 'Chilean', 'Polish', 'North_African', 'Asian', 'Vietnamese', 'Barbecue', 'French', 'Brazilian', 'Southern', 'Dessert-Ice_Cream'], 'U1136': ['Mexican'], 'U1137': ['Mexican'], 'U1138': ['Pizzeria']}\n"
     ]
    }
   ],
   "source": [
    "print(userDictionary)\n",
    "with open('restarauntCusine.csv', 'w', newline= '') as file:\n",
    "    writer = csv.writer(file)\n",
    "    writer.writerow(['ID', 'Cusine'])\n",
    "    for name, preferences in userDictionary.items():\n",
    "        writer.writerow([name, \",\".join(preferences)])\n",
    "    writer.writerow"
   ]
  }
 ],
 "metadata": {
  "kernelspec": {
   "display_name": "Python 3",
   "language": "python",
   "name": "python3"
  },
  "language_info": {
   "codemirror_mode": {
    "name": "ipython",
    "version": 3
   },
   "file_extension": ".py",
   "mimetype": "text/x-python",
   "name": "python",
   "nbconvert_exporter": "python",
   "pygments_lexer": "ipython3",
   "version": "3.10.5"
  },
  "orig_nbformat": 4
 },
 "nbformat": 4,
 "nbformat_minor": 2
}
